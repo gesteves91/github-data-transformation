{
 "cells": [
  {
   "cell_type": "code",
   "execution_count": 17,
   "metadata": {},
   "outputs": [],
   "source": [
    "# import the libraries\n",
    "import warnings\n",
    "warnings.filterwarnings('ignore')\n",
    "import numpy as np\n",
    "import pandas as pd\n",
    "from datetime import datetime\n",
    "from sklearn.model_selection import RandomizedSearchCV, GridSearchCV\n",
    "from sklearn.metrics import roc_auc_score\n",
    "from sklearn.model_selection import StratifiedKFold\n",
    "from xgboost import XGBClassifier"
   ]
  },
  {
   "cell_type": "code",
   "execution_count": 18,
   "metadata": {},
   "outputs": [],
   "source": [
    "def timer(start_time=None):\n",
    "    if not start_time:\n",
    "        start_time = datetime.now()\n",
    "        return start_time\n",
    "    elif start_time:\n",
    "        thour, temp_sec = divmod((datetime.now() - start_time).total_seconds(), 3600)\n",
    "        tmin, tsec = divmod(temp_sec, 60)\n",
    "        print('\\n Time taken: %i hours %i minutes and %s seconds.' % (thour, tmin, round(tsec, 2)))"
   ]
  },
  {
   "cell_type": "code",
   "execution_count": 19,
   "metadata": {},
   "outputs": [],
   "source": [
    "# load data\n",
    "df = pd.read_csv('../data/commits_transformed.csv', \n",
    "                 index_col='date', \n",
    "                 parse_dates=['date'],\n",
    "                 infer_datetime_format=True)"
   ]
  },
  {
   "cell_type": "code",
   "execution_count": 20,
   "metadata": {},
   "outputs": [],
   "source": [
    "df = df.drop(\"total_deletions\", axis=1)\n",
    "df = df.drop(\"total_additions\", axis=1)\n",
    "df = df.drop(\"total\", axis=1)\n",
    "df = df.drop(\"private\", axis=1)\n",
    "df = df.drop(\"fork\", axis=1)\n",
    "df = df.drop(\"size\", axis=1)\n",
    "df = df.drop(\"watchers_count\", axis=1)\n",
    "df = df.drop(\"has_issues\", axis=1)\n",
    "df = df.drop(\"has_downloads\", axis=1)\n",
    "df = df.drop(\"has_wiki\", axis=1)\n",
    "df = df.drop(\"forks_count\", axis=1)\n",
    "df = df.drop(\"open_issues_count\", axis=1)\n",
    "df = df.drop(\"forks\", axis=1)\n",
    "df = df.drop(\"open_issues\", axis=1)\n",
    "df = df.drop(\"watchers\", axis=1)\n",
    "df = df.drop(\"network_count\", axis=1)\n",
    "df = df.drop(\"type\", axis=1)\n",
    "df = df.drop(\"admin\", axis=1)\n",
    "df = df.drop(\"push\", axis=1)\n",
    "df = df.drop(\"pull\", axis=1)\n",
    "df = df.drop(\"total_files\", axis=1)\n",
    "df = df.drop(\"language_C\", axis=1)\n",
    "df = df.drop(\"language_C#\", axis=1)\n",
    "df = df.drop(\"language_C++\", axis=1)\n",
    "df = df.drop(\"language_CSS\", axis=1)\n",
    "df = df.drop(\"language_CoffeeScript\", axis=1)\n",
    "df = df.drop(\"language_Go\", axis=1)\n",
    "df = df.drop(\"language_Java\", axis=1)\n",
    "df = df.drop(\"language_JavaScript\", axis=1)\n",
    "df = df.drop(\"language_PHP\", axis=1)\n",
    "df = df.drop(\"language_Perl\", axis=1)\n",
    "df = df.drop(\"language_Python\", axis=1)\n",
    "df = df.drop(\"language_R\", axis=1)\n",
    "df = df.drop(\"language_Ruby\", axis=1)\n",
    "df = df.drop(\"language_Scala\", axis=1)\n",
    "df = df.drop(\"language_Shell\", axis=1)\n",
    "df = df.drop(\"language_TypeScript\", axis=1)"
   ]
  },
  {
   "cell_type": "code",
   "execution_count": 21,
   "metadata": {},
   "outputs": [],
   "source": [
    "# split data into X and y\n",
    "array = df.values\n",
    "X = array[:,0:37]\n",
    "Y = array[:,37]"
   ]
  },
  {
   "cell_type": "code",
   "execution_count": 22,
   "metadata": {},
   "outputs": [],
   "source": [
    "# A parameter grid for XGBoost\n",
    "params = {\n",
    "        'min_child_weight': [1, 5, 10],\n",
    "        'gamma': [0.5, 1, 1.5, 2, 5],\n",
    "        'subsample': [0.6, 0.8, 1.0],\n",
    "        'colsample_bytree': [0.6, 0.8, 1.0],\n",
    "        'max_depth': [3, 4, 5]\n",
    "        }"
   ]
  },
  {
   "cell_type": "code",
   "execution_count": 23,
   "metadata": {},
   "outputs": [],
   "source": [
    "xgb = XGBClassifier(learning_rate=0.02, n_estimators=600, objective='binary:logistic',\n",
    "                    silent=True, nthread=1)"
   ]
  },
  {
   "cell_type": "code",
   "execution_count": 24,
   "metadata": {},
   "outputs": [
    {
     "name": "stdout",
     "output_type": "stream",
     "text": [
      "Fitting 3 folds for each of 5 candidates, totalling 15 fits\n"
     ]
    },
    {
     "name": "stderr",
     "output_type": "stream",
     "text": [
      "[Parallel(n_jobs=4)]: Using backend LokyBackend with 4 concurrent workers.\n",
      "[Parallel(n_jobs=4)]: Done  15 out of  15 | elapsed: 40.4min finished\n"
     ]
    },
    {
     "name": "stdout",
     "output_type": "stream",
     "text": [
      "\n",
      " Time taken: 0 hours 49 minutes and 35.02 seconds.\n"
     ]
    }
   ],
   "source": [
    "folds = 3\n",
    "param_comb = 5\n",
    "\n",
    "skf = StratifiedKFold(n_splits=folds, shuffle = False, random_state = 1001)\n",
    "\n",
    "random_search = RandomizedSearchCV(xgb, param_distributions=params, n_iter=param_comb, scoring='roc_auc', n_jobs=4, cv=skf.split(X,Y), verbose=3, random_state=1001 )\n",
    "\n",
    "# Here we go\n",
    "start_time = timer(None) # timing starts from this point for \"start_time\" variable\n",
    "random_search.fit(X, Y)\n",
    "timer(start_time) # timing ends here for \"start_time\" variable"
   ]
  },
  {
   "cell_type": "code",
   "execution_count": 25,
   "metadata": {},
   "outputs": [
    {
     "name": "stdout",
     "output_type": "stream",
     "text": [
      "\n",
      " All results:\n",
      "{'mean_fit_time': array([395.63352784, 709.96507748, 720.31436189, 560.28063019,\n",
      "       540.21017281]), 'std_fit_time': array([ 0.93342821, 46.72552618, 44.58463382, 13.97091798, 23.90768405]), 'mean_score_time': array([ 5.0712498 , 11.9163363 , 11.64624182,  9.7215627 ,  5.76317461]), 'std_score_time': array([0.09917679, 1.96742802, 1.05338611, 0.67214139, 0.8453187 ]), 'param_subsample': masked_array(data=[1.0, 0.6, 0.8, 1.0, 0.8],\n",
      "             mask=[False, False, False, False, False],\n",
      "       fill_value='?',\n",
      "            dtype=object), 'param_min_child_weight': masked_array(data=[5, 1, 5, 5, 1],\n",
      "             mask=[False, False, False, False, False],\n",
      "       fill_value='?',\n",
      "            dtype=object), 'param_max_depth': masked_array(data=[3, 5, 5, 5, 4],\n",
      "             mask=[False, False, False, False, False],\n",
      "       fill_value='?',\n",
      "            dtype=object), 'param_gamma': masked_array(data=[5, 1.5, 1, 5, 1],\n",
      "             mask=[False, False, False, False, False],\n",
      "       fill_value='?',\n",
      "            dtype=object), 'param_colsample_bytree': masked_array(data=[1.0, 0.8, 0.8, 0.6, 1.0],\n",
      "             mask=[False, False, False, False, False],\n",
      "       fill_value='?',\n",
      "            dtype=object), 'params': [{'subsample': 1.0, 'min_child_weight': 5, 'max_depth': 3, 'gamma': 5, 'colsample_bytree': 1.0}, {'subsample': 0.6, 'min_child_weight': 1, 'max_depth': 5, 'gamma': 1.5, 'colsample_bytree': 0.8}, {'subsample': 0.8, 'min_child_weight': 5, 'max_depth': 5, 'gamma': 1, 'colsample_bytree': 0.8}, {'subsample': 1.0, 'min_child_weight': 5, 'max_depth': 5, 'gamma': 5, 'colsample_bytree': 0.6}, {'subsample': 0.8, 'min_child_weight': 1, 'max_depth': 4, 'gamma': 1, 'colsample_bytree': 1.0}], 'split0_test_score': array([0.51677466, 0.51606945, 0.51592072, 0.51411904, 0.51547914]), 'split1_test_score': array([0.52513393, 0.52474658, 0.52574455, 0.52598041, 0.52474598]), 'split2_test_score': array([0.52810576, 0.53445894, 0.53684659, 0.53444031, 0.52969564]), 'mean_test_score': array([0.5233381 , 0.52509163, 0.52617059, 0.52484655, 0.5233069 ]), 'std_test_score': array([0.00479703, 0.00751144, 0.00854826, 0.00833478, 0.00589239]), 'rank_test_score': array([4, 2, 1, 3, 5], dtype=int32), 'split0_train_score': array([0.59324067, 0.61697302, 0.61570576, 0.61121157, 0.60604233]), 'split1_train_score': array([0.6034272 , 0.62768412, 0.62611971, 0.62353084, 0.61634817]), 'split2_train_score': array([0.58968474, 0.61682913, 0.61542854, 0.61081783, 0.60381314]), 'mean_train_score': array([0.59545087, 0.62049542, 0.61908467, 0.61518675, 0.60873454]), 'std_train_score': array([0.00582395, 0.00508352, 0.00497581, 0.00590236, 0.00546002])}\n",
      "\n",
      " Best estimator:\n",
      "XGBClassifier(base_score=0.5, booster='gbtree', colsample_bylevel=1,\n",
      "       colsample_bynode=1, colsample_bytree=0.8, gamma=1,\n",
      "       learning_rate=0.02, max_delta_step=0, max_depth=5,\n",
      "       min_child_weight=5, missing=None, n_estimators=600, n_jobs=1,\n",
      "       nthread=1, objective='binary:logistic', random_state=0, reg_alpha=0,\n",
      "       reg_lambda=1, scale_pos_weight=1, seed=None, silent=True,\n",
      "       subsample=0.8, verbosity=1)\n",
      "\n",
      " Best normalized gini score for 3-fold search with 5 parameter combinations:\n",
      "0.05234117097744617\n",
      "\n",
      " Best hyperparameters:\n",
      "{'subsample': 0.8, 'min_child_weight': 5, 'max_depth': 5, 'gamma': 1, 'colsample_bytree': 0.8}\n"
     ]
    }
   ],
   "source": [
    "print('\\n All results:')\n",
    "print(random_search.cv_results_)\n",
    "print('\\n Best estimator:')\n",
    "print(random_search.best_estimator_)\n",
    "print('\\n Best normalized gini score for %d-fold search with %d parameter combinations:' % (folds, param_comb))\n",
    "print(random_search.best_score_ * 2 - 1)\n",
    "print('\\n Best hyperparameters:')\n",
    "print(random_search.best_params_)\n",
    "results = pd.DataFrame(random_search.cv_results_)\n",
    "results.to_csv('xgb-random-grid-search-results-01.csv', index=False)"
   ]
  },
  {
   "cell_type": "code",
   "execution_count": 26,
   "metadata": {},
   "outputs": [
    {
     "ename": "NameError",
     "evalue": "name 'test' is not defined",
     "output_type": "error",
     "traceback": [
      "\u001b[0;31m---------------------------------------------------------------------------\u001b[0m",
      "\u001b[0;31mNameError\u001b[0m                                 Traceback (most recent call last)",
      "\u001b[0;32m<ipython-input-26-261ebb919ef6>\u001b[0m in \u001b[0;36m<module>\u001b[0;34m\u001b[0m\n\u001b[0;32m----> 1\u001b[0;31m \u001b[0my_test\u001b[0m \u001b[0;34m=\u001b[0m \u001b[0mrandom_search\u001b[0m\u001b[0;34m.\u001b[0m\u001b[0mpredict_proba\u001b[0m\u001b[0;34m(\u001b[0m\u001b[0mtest\u001b[0m\u001b[0;34m)\u001b[0m\u001b[0;34m\u001b[0m\u001b[0;34m\u001b[0m\u001b[0m\n\u001b[0m",
      "\u001b[0;31mNameError\u001b[0m: name 'test' is not defined"
     ]
    }
   ],
   "source": [
    "y_test = random_search.predict_proba(test)"
   ]
  },
  {
   "cell_type": "code",
   "execution_count": null,
   "metadata": {},
   "outputs": [],
   "source": []
  }
 ],
 "metadata": {
  "kernelspec": {
   "display_name": "Python 3",
   "language": "python",
   "name": "python3"
  },
  "language_info": {
   "codemirror_mode": {
    "name": "ipython",
    "version": 3
   },
   "file_extension": ".py",
   "mimetype": "text/x-python",
   "name": "python",
   "nbconvert_exporter": "python",
   "pygments_lexer": "ipython3",
   "version": "3.7.3"
  }
 },
 "nbformat": 4,
 "nbformat_minor": 2
}
