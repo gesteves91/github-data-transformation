{
 "cells": [
  {
   "cell_type": "code",
   "execution_count": 85,
   "metadata": {
    "pycharm": {
     "is_executing": false
    }
   },
   "outputs": [],
   "source": [
    "import pandas as pd\n",
    "import sys"
   ]
  },
  {
   "cell_type": "code",
   "execution_count": 86,
   "metadata": {
    "pycharm": {
     "is_executing": false
    }
   },
   "outputs": [],
   "source": [
    "df = pd.read_csv('../data/data_processed_fee.csv', \n",
    "                 index_col='date', \n",
    "                 parse_dates=['date'],\n",
    "                 infer_datetime_format=True)"
   ]
  },
  {
   "cell_type": "code",
   "execution_count": 87,
   "metadata": {},
   "outputs": [],
   "source": [
    "def derive(items):\n",
    "    i = 1\n",
    "    result = []\n",
    "    result.append(0)\n",
    "\n",
    "    while i < len(items):\n",
    "        if items[i-1] == 0:\n",
    "            result.append((items[i]-items[i-1]))\n",
    "            i = i + 1\n",
    "        else:\n",
    "            result.append((items[i]-items[i-1])/items[i-1])\n",
    "            i = i + 1\n",
    "\n",
    "    return result"
   ]
  },
  {
   "cell_type": "code",
   "execution_count": 88,
   "metadata": {},
   "outputs": [],
   "source": [
    "for column in df.columns:\n",
    "    col_values = derive(df[column].values)\n",
    "    df[column+'_derivate'] = col_values"
   ]
  },
  {
   "cell_type": "code",
   "execution_count": null,
   "metadata": {},
   "outputs": [],
   "source": []
  }
 ],
 "metadata": {
  "kernelspec": {
   "display_name": "Python 3",
   "language": "python",
   "name": "python3"
  },
  "language_info": {
   "codemirror_mode": {
    "name": "ipython",
    "version": 3
   },
   "file_extension": ".py",
   "mimetype": "text/x-python",
   "name": "python",
   "nbconvert_exporter": "python",
   "pygments_lexer": "ipython3",
   "version": "3.7.3"
  },
  "pycharm": {
   "stem_cell": {
    "cell_type": "raw",
    "metadata": {
     "collapsed": false
    },
    "source": []
   }
  }
 },
 "nbformat": 4,
 "nbformat_minor": 2
}
