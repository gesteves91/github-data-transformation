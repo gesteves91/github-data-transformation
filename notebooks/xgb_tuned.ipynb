{
 "cells": [
  {
   "cell_type": "code",
   "execution_count": 1,
   "metadata": {},
   "outputs": [
    {
     "data": {
      "text/plain": [
       "<tensorflow.python.client.session.Session at 0x7efd085088d0>"
      ]
     },
     "execution_count": 1,
     "metadata": {},
     "output_type": "execute_result"
    }
   ],
   "source": [
    "# import the libraries\n",
    "from pandas import read_csv\n",
    "from xgboost import XGBClassifier\n",
    "from sklearn.model_selection import GridSearchCV\n",
    "from sklearn.model_selection import StratifiedKFold\n",
    "from sklearn.preprocessing import LabelEncoder\n",
    "import matplotlib\n",
    "matplotlib.use('Agg')\n",
    "from matplotlib import pyplot\n",
    "import numpy\n",
    "import pandas as pd\n",
    "import tensorflow as tf\n",
    "tf.Session(config=tf.ConfigProto(log_device_placement=True))"
   ]
  },
  {
   "cell_type": "code",
   "execution_count": 2,
   "metadata": {},
   "outputs": [],
   "source": [
    "# load data\n",
    "df = pd.read_csv('../data/commits_transformed_new.csv', \n",
    "                 index_col='date', \n",
    "                 parse_dates=['date'],\n",
    "                 infer_datetime_format=True)"
   ]
  },
  {
   "cell_type": "code",
   "execution_count": 3,
   "metadata": {},
   "outputs": [
    {
     "data": {
      "text/plain": [
       "(601077, 75)"
      ]
     },
     "execution_count": 3,
     "metadata": {},
     "output_type": "execute_result"
    }
   ],
   "source": [
    "df.shape"
   ]
  },
  {
   "cell_type": "code",
   "execution_count": 4,
   "metadata": {},
   "outputs": [],
   "source": [
    "df = df.drop(\"total_deletions\", axis=1)\n",
    "df = df.drop(\"total_additions\", axis=1)\n",
    "df = df.drop(\"total\", axis=1)\n",
    "df = df.drop(\"private\", axis=1)\n",
    "df = df.drop(\"fork\", axis=1)\n",
    "df = df.drop(\"size\", axis=1)\n",
    "df = df.drop(\"watchers_count\", axis=1)\n",
    "df = df.drop(\"has_issues\", axis=1)\n",
    "df = df.drop(\"has_downloads\", axis=1)\n",
    "df = df.drop(\"has_wiki\", axis=1)\n",
    "df = df.drop(\"forks_count\", axis=1)\n",
    "df = df.drop(\"open_issues_count\", axis=1)\n",
    "df = df.drop(\"forks\", axis=1)\n",
    "df = df.drop(\"open_issues\", axis=1)\n",
    "df = df.drop(\"watchers\", axis=1)\n",
    "df = df.drop(\"network_count\", axis=1)\n",
    "df = df.drop(\"type\", axis=1)\n",
    "df = df.drop(\"admin\", axis=1)\n",
    "df = df.drop(\"push\", axis=1)\n",
    "df = df.drop(\"pull\", axis=1)\n",
    "df = df.drop(\"total_files\", axis=1)\n",
    "df = df.drop(\"language_C\", axis=1)\n",
    "df = df.drop(\"language_C#\", axis=1)\n",
    "df = df.drop(\"language_C++\", axis=1)\n",
    "df = df.drop(\"language_CSS\", axis=1)\n",
    "df = df.drop(\"language_CoffeeScript\", axis=1)\n",
    "df = df.drop(\"language_Go\", axis=1)\n",
    "df = df.drop(\"language_Java\", axis=1)\n",
    "df = df.drop(\"language_JavaScript\", axis=1)\n",
    "df = df.drop(\"language_PHP\", axis=1)\n",
    "df = df.drop(\"language_Perl\", axis=1)\n",
    "df = df.drop(\"language_Python\", axis=1)\n",
    "df = df.drop(\"language_R\", axis=1)\n",
    "df = df.drop(\"language_Ruby\", axis=1)\n",
    "df = df.drop(\"language_Scala\", axis=1)\n",
    "df = df.drop(\"language_Shell\", axis=1)\n",
    "df = df.drop(\"language_TypeScript\", axis=1)"
   ]
  },
  {
   "cell_type": "code",
   "execution_count": 5,
   "metadata": {},
   "outputs": [
    {
     "data": {
      "text/plain": [
       "False"
      ]
     },
     "execution_count": 5,
     "metadata": {},
     "output_type": "execute_result"
    }
   ],
   "source": [
    "df.isnull().values.any()"
   ]
  },
  {
   "cell_type": "code",
   "execution_count": 5,
   "metadata": {},
   "outputs": [],
   "source": [
    "# split data into X and y\n",
    "array = df.values\n",
    "X = array[:,0:37]\n",
    "y = array[:,37]"
   ]
  },
  {
   "cell_type": "code",
   "execution_count": 6,
   "metadata": {},
   "outputs": [],
   "source": [
    "# grid search\n",
    "model = XGBClassifier(\n",
    " learning_rate =1,\n",
    " min_child_weight=1,\n",
    " gamma=0,\n",
    " subsample=0.8,\n",
    " colsample_bytree=0.8,\n",
    " objective= 'binary:logistic',\n",
    " nthread=4,\n",
    " scale_pos_weight=1,\n",
    " seed=27)\n",
    "n_estimators = [100, 500]\n",
    "max_depth = [5, 10]\n",
    "param_grid = dict(max_depth=max_depth, n_estimators=n_estimators)\n",
    "kfold = StratifiedKFold(n_splits=3, shuffle=True, random_state=7)\n",
    "grid_search = GridSearchCV(model, param_grid, scoring=\"roc_auc\", n_jobs=-1, cv=kfold, verbose=1)"
   ]
  },
  {
   "cell_type": "code",
   "execution_count": null,
   "metadata": {},
   "outputs": [
    {
     "name": "stdout",
     "output_type": "stream",
     "text": [
      "Fitting 3 folds for each of 4 candidates, totalling 12 fits\n"
     ]
    },
    {
     "name": "stderr",
     "output_type": "stream",
     "text": [
      "[Parallel(n_jobs=-1)]: Using backend LokyBackend with 8 concurrent workers.\n"
     ]
    }
   ],
   "source": [
    "# fit the model\n",
    "grid_result = grid_search.fit(X, y)"
   ]
  },
  {
   "cell_type": "code",
   "execution_count": null,
   "metadata": {},
   "outputs": [],
   "source": [
    "# summarize results\n",
    "print(\"Best: %f using %s\" % (grid_result.best_score_, grid_result.best_params_))\n",
    "means = grid_result.cv_results_['mean_test_score']\n",
    "stds = grid_result.cv_results_['std_test_score']\n",
    "params = grid_result.cv_results_['params']\n",
    "for mean, stdev, param in zip(means, stds, params):\n",
    "\tprint(\"%f (%f) with: %r\" % (mean, stdev, param))\n",
    "# plot results\n",
    "scores = numpy.array(means).reshape(len(max_depth), len(n_estimators))\n",
    "for i, value in enumerate(max_depth):\n",
    "    pyplot.plot(n_estimators, scores[i], label='depth: ' + str(value))\n",
    "pyplot.legend()\n",
    "pyplot.xlabel('n_estimators')\n",
    "pyplot.ylabel('Log Loss')\n",
    "pyplot.savefig('n_estimators_vs_max_depth.png')"
   ]
  },
  {
   "cell_type": "code",
   "execution_count": null,
   "metadata": {},
   "outputs": [],
   "source": []
  }
 ],
 "metadata": {
  "kernelspec": {
   "display_name": "Python 3",
   "language": "python",
   "name": "python3"
  },
  "language_info": {
   "codemirror_mode": {
    "name": "ipython",
    "version": 3
   },
   "file_extension": ".py",
   "mimetype": "text/x-python",
   "name": "python",
   "nbconvert_exporter": "python",
   "pygments_lexer": "ipython3",
   "version": "3.7.3"
  }
 },
 "nbformat": 4,
 "nbformat_minor": 2
}
